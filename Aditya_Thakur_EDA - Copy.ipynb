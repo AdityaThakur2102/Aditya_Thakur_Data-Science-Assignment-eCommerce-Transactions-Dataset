{
 "cells": [
  {
   "cell_type": "markdown",
   "id": "e3cf0b0a-0099-424d-8d0b-48abcb2084a0",
   "metadata": {},
   "source": [
    "**Step 1: Import Libraries and Load Data**"
   ]
  },
  {
   "cell_type": "code",
   "execution_count": 1,
   "id": "88561b8a-c574-457b-a3be-94883109228e",
   "metadata": {},
   "outputs": [
    {
     "name": "stdout",
     "output_type": "stream",
     "text": [
      "Customers Data\n",
      "<class 'pandas.core.frame.DataFrame'>\n",
      "RangeIndex: 200 entries, 0 to 199\n",
      "Data columns (total 4 columns):\n",
      " #   Column        Non-Null Count  Dtype \n",
      "---  ------        --------------  ----- \n",
      " 0   CustomerID    200 non-null    object\n",
      " 1   CustomerName  200 non-null    object\n",
      " 2   Region        200 non-null    object\n",
      " 3   SignupDate    200 non-null    object\n",
      "dtypes: object(4)\n",
      "memory usage: 6.4+ KB\n",
      "None\n",
      "  CustomerID        CustomerName         Region  SignupDate\n",
      "0      C0001    Lawrence Carroll  South America  2022-07-10\n",
      "1      C0002      Elizabeth Lutz           Asia  2022-02-13\n",
      "2      C0003      Michael Rivera  South America  2024-03-07\n",
      "3      C0004  Kathleen Rodriguez  South America  2022-10-09\n",
      "4      C0005         Laura Weber           Asia  2022-08-15\n",
      "\n",
      "Products Data\n",
      "<class 'pandas.core.frame.DataFrame'>\n",
      "RangeIndex: 100 entries, 0 to 99\n",
      "Data columns (total 4 columns):\n",
      " #   Column       Non-Null Count  Dtype  \n",
      "---  ------       --------------  -----  \n",
      " 0   ProductID    100 non-null    object \n",
      " 1   ProductName  100 non-null    object \n",
      " 2   Category     100 non-null    object \n",
      " 3   Price        100 non-null    float64\n",
      "dtypes: float64(1), object(3)\n",
      "memory usage: 3.3+ KB\n",
      "None\n",
      "  ProductID              ProductName     Category   Price\n",
      "0      P001     ActiveWear Biography        Books  169.30\n",
      "1      P002    ActiveWear Smartwatch  Electronics  346.30\n",
      "2      P003  ComfortLiving Biography        Books   44.12\n",
      "3      P004            BookWorld Rug   Home Decor   95.69\n",
      "4      P005          TechPro T-Shirt     Clothing  429.31\n",
      "\n",
      "Transactions Data\n",
      "<class 'pandas.core.frame.DataFrame'>\n",
      "RangeIndex: 1000 entries, 0 to 999\n",
      "Data columns (total 7 columns):\n",
      " #   Column           Non-Null Count  Dtype  \n",
      "---  ------           --------------  -----  \n",
      " 0   TransactionID    1000 non-null   object \n",
      " 1   CustomerID       1000 non-null   object \n",
      " 2   ProductID        1000 non-null   object \n",
      " 3   TransactionDate  1000 non-null   object \n",
      " 4   Quantity         1000 non-null   int64  \n",
      " 5   TotalValue       1000 non-null   float64\n",
      " 6   Price            1000 non-null   float64\n",
      "dtypes: float64(2), int64(1), object(4)\n",
      "memory usage: 54.8+ KB\n",
      "None\n",
      "  TransactionID CustomerID ProductID      TransactionDate  Quantity  \\\n",
      "0        T00001      C0199      P067  2024-08-25 12:38:23         1   \n",
      "1        T00112      C0146      P067  2024-05-27 22:23:54         1   \n",
      "2        T00166      C0127      P067  2024-04-25 07:38:55         1   \n",
      "3        T00272      C0087      P067  2024-03-26 22:55:37         2   \n",
      "4        T00363      C0070      P067  2024-03-21 15:10:10         3   \n",
      "\n",
      "   TotalValue   Price  \n",
      "0      300.68  300.68  \n",
      "1      300.68  300.68  \n",
      "2      300.68  300.68  \n",
      "3      601.36  300.68  \n",
      "4      902.04  300.68  \n"
     ]
    }
   ],
   "source": [
    "# Import necessary libraries\n",
    "import pandas as pd\n",
    "\n",
    "# File paths (update these paths based on where your CSV files are saved locally)\n",
    "customers_path = \"Customers.csv\"\n",
    "products_path = \"Products.csv\"\n",
    "transactions_path = \"Transactions.csv\"\n",
    "\n",
    "# Load datasets\n",
    "customers = pd.read_csv(customers_path)\n",
    "products = pd.read_csv(products_path)\n",
    "transactions = pd.read_csv(transactions_path)\n",
    "\n",
    "# Display basic information about each dataset\n",
    "print(\"Customers Data\")\n",
    "print(customers.info())\n",
    "print(customers.head())\n",
    "\n",
    "print(\"\\nProducts Data\")\n",
    "print(products.info())\n",
    "print(products.head())\n",
    "\n",
    "print(\"\\nTransactions Data\")\n",
    "print(transactions.info())\n",
    "print(transactions.head())\n"
   ]
  },
  {
   "cell_type": "markdown",
   "id": "7b97f147-195b-4411-9760-b6fac70526ca",
   "metadata": {},
   "source": [
    "**Step 2: Data Cleaning**"
   ]
  },
  {
   "cell_type": "code",
   "execution_count": 2,
   "id": "534a2db7-0146-4011-b894-78186b6ce4d8",
   "metadata": {},
   "outputs": [
    {
     "name": "stdout",
     "output_type": "stream",
     "text": [
      "Duplicate Rows in Customers: 0\n",
      "Duplicate Rows in Products: 0\n",
      "Duplicate Rows in Transactions: 0\n",
      "\n",
      "Missing Values in Customers:\n",
      " CustomerID      0\n",
      "CustomerName    0\n",
      "Region          0\n",
      "SignupDate      0\n",
      "dtype: int64\n",
      "\n",
      "Missing Values in Products:\n",
      " ProductID      0\n",
      "ProductName    0\n",
      "Category       0\n",
      "Price          0\n",
      "dtype: int64\n",
      "\n",
      "Missing Values in Transactions:\n",
      " TransactionID      0\n",
      "CustomerID         0\n",
      "ProductID          0\n",
      "TransactionDate    0\n",
      "Quantity           0\n",
      "TotalValue         0\n",
      "Price              0\n",
      "dtype: int64\n"
     ]
    }
   ],
   "source": [
    "# Convert date columns to datetime format\n",
    "customers['SignupDate'] = pd.to_datetime(customers['SignupDate'])\n",
    "transactions['TransactionDate'] = pd.to_datetime(transactions['TransactionDate'])\n",
    "\n",
    "# Check for duplicates in each dataset\n",
    "print(\"Duplicate Rows in Customers:\", customers.duplicated().sum())\n",
    "print(\"Duplicate Rows in Products:\", products.duplicated().sum())\n",
    "print(\"Duplicate Rows in Transactions:\", transactions.duplicated().sum())\n",
    "\n",
    "# Check for missing values in each dataset\n",
    "print(\"\\nMissing Values in Customers:\\n\", customers.isnull().sum())\n",
    "print(\"\\nMissing Values in Products:\\n\", products.isnull().sum())\n",
    "print(\"\\nMissing Values in Transactions:\\n\", transactions.isnull().sum())\n"
   ]
  },
  {
   "cell_type": "markdown",
   "id": "bf6b4e84-005e-4455-8e49-52d67acf5676",
   "metadata": {},
   "source": [
    "**Step 3: Exploratory Data Analysis (EDA)**\n",
    "\n",
    "\n",
    "*3.1: Summary Statistics*"
   ]
  },
  {
   "cell_type": "code",
   "execution_count": 3,
   "id": "7c58eccd-498f-4d04-9459-710454fbab53",
   "metadata": {},
   "outputs": [
    {
     "name": "stdout",
     "output_type": "stream",
     "text": [
      "Transactions Dataset - Summary Statistics\n",
      "          Quantity   TotalValue       Price\n",
      "count  1000.000000  1000.000000  1000.00000\n",
      "mean      2.537000   689.995560   272.55407\n",
      "std       1.117981   493.144478   140.73639\n",
      "min       1.000000    16.080000    16.08000\n",
      "25%       2.000000   295.295000   147.95000\n",
      "50%       3.000000   588.880000   299.93000\n",
      "75%       4.000000  1011.660000   404.40000\n",
      "max       4.000000  1991.040000   497.76000\n",
      "\n",
      "Products Dataset - Summary Statistics\n",
      "            Price\n",
      "count  100.000000\n",
      "mean   267.551700\n",
      "std    143.219383\n",
      "min     16.080000\n",
      "25%    147.767500\n",
      "50%    292.875000\n",
      "75%    397.090000\n",
      "max    497.760000\n"
     ]
    }
   ],
   "source": [
    "# Summary statistics for numeric columns\n",
    "print(\"Transactions Dataset - Summary Statistics\")\n",
    "print(transactions[['Quantity', 'TotalValue', 'Price']].describe())\n",
    "\n",
    "print(\"\\nProducts Dataset - Summary Statistics\")\n",
    "print(products[['Price']].describe())\n"
   ]
  },
  {
   "cell_type": "markdown",
   "id": "2b916e3f-16ad-46f7-99c0-c8dccb2cae4a",
   "metadata": {},
   "source": [
    "*3.2: Regional Sales Distribution*"
   ]
  },
  {
   "cell_type": "code",
   "execution_count": 4,
   "id": "9a0921d8-e5f6-45b1-a779-418affad2f2f",
   "metadata": {},
   "outputs": [
    {
     "name": "stdout",
     "output_type": "stream",
     "text": [
      "Sales by Region:\n",
      "Region\n",
      "Asia             152074.97\n",
      "Europe           166254.63\n",
      "North America    152313.40\n",
      "South America    219352.56\n",
      "Name: TotalValue, dtype: float64\n"
     ]
    }
   ],
   "source": [
    "# Calculate total sales by region\n",
    "sales_by_region = transactions.merge(customers, on='CustomerID').groupby('Region')['TotalValue'].sum()\n",
    "print(\"Sales by Region:\")\n",
    "print(sales_by_region)\n"
   ]
  },
  {
   "cell_type": "markdown",
   "id": "5d6ae3b3-0123-49ac-b723-43c11291b032",
   "metadata": {},
   "source": [
    "*3.3: Top Products by Sales*"
   ]
  },
  {
   "cell_type": "code",
   "execution_count": 5,
   "id": "3d24b399-6189-4d43-a129-751aa23b68c3",
   "metadata": {},
   "outputs": [
    {
     "name": "stdout",
     "output_type": "stream",
     "text": [
      "Top 5 Products by Sales Value:\n",
      "ProductName\n",
      "ActiveWear Smartwatch    39096.97\n",
      "SoundWave Headphones     25211.64\n",
      "SoundWave Novel          24507.90\n",
      "ActiveWear Jacket        22712.56\n",
      "ActiveWear Rug           22314.43\n",
      "Name: TotalValue, dtype: float64\n"
     ]
    }
   ],
   "source": [
    "# Top 5 products by total sales value\n",
    "top_products = (\n",
    "    transactions.merge(products, on='ProductID')\n",
    "    .groupby('ProductName')['TotalValue']\n",
    "    .sum()\n",
    "    .sort_values(ascending=False)\n",
    "    .head(5)\n",
    ")\n",
    "print(\"Top 5 Products by Sales Value:\")\n",
    "print(top_products)\n"
   ]
  },
  {
   "cell_type": "markdown",
   "id": "5b551369-5601-4a76-a1d2-cdb4feb46485",
   "metadata": {},
   "source": [
    "*3.4: Monthly Sales Trends*\n"
   ]
  },
  {
   "cell_type": "code",
   "execution_count": 6,
   "id": "28da1b8f-7a85-4a0d-bd46-dc9271e00b24",
   "metadata": {},
   "outputs": [
    {
     "name": "stdout",
     "output_type": "stream",
     "text": [
      "Monthly Sales Trend:\n",
      "Month\n",
      "2023-12     3769.52\n",
      "2024-01    66376.39\n",
      "2024-02    51459.27\n",
      "2024-03    47828.73\n",
      "2024-04    57519.06\n",
      "Freq: M, Name: TotalValue, dtype: float64\n"
     ]
    }
   ],
   "source": [
    "# Add a 'Month' column to transactions for trend analysis\n",
    "transactions['Month'] = transactions['TransactionDate'].dt.to_period('M')\n",
    "\n",
    "# Calculate monthly sales\n",
    "monthly_sales = transactions.groupby('Month')['TotalValue'].sum()\n",
    "print(\"Monthly Sales Trend:\")\n",
    "print(monthly_sales.head(5))  # Displaying first 5 months as a preview\n"
   ]
  },
  {
   "cell_type": "markdown",
   "id": "4e9fce73-1a48-40f9-8f5a-62545839a185",
   "metadata": {},
   "source": [
    "*3.5: Top Customers by Purchases*"
   ]
  },
  {
   "cell_type": "code",
   "execution_count": 7,
   "id": "e23a081c-7238-457c-bd25-fb3985e4007f",
   "metadata": {},
   "outputs": [
    {
     "name": "stdout",
     "output_type": "stream",
     "text": [
      "Top 5 Customers by Total Purchases:\n",
      "CustomerName\n",
      "Paul Parsons     10673.87\n",
      "Bruce Rhodes      8040.39\n",
      "Gerald Hines      7663.70\n",
      "William Adams     7634.45\n",
      "Aimee Taylor      7572.91\n",
      "Name: TotalValue, dtype: float64\n"
     ]
    }
   ],
   "source": [
    "# Top 5 customers by total purchase value\n",
    "top_customers = (\n",
    "    transactions.merge(customers, on='CustomerID')\n",
    "    .groupby('CustomerName')['TotalValue']\n",
    "    .sum()\n",
    "    .sort_values(ascending=False)\n",
    "    .head(5)\n",
    ")\n",
    "print(\"Top 5 Customers by Total Purchases:\")\n",
    "print(top_customers)\n"
   ]
  },
  {
   "cell_type": "code",
   "execution_count": null,
   "id": "7c26315a-b0d4-439f-a956-ef88989e0f54",
   "metadata": {},
   "outputs": [],
   "source": []
  },
  {
   "cell_type": "code",
   "execution_count": null,
   "id": "834dadfe-9b0b-4067-8f80-e0e45b1ce84e",
   "metadata": {},
   "outputs": [],
   "source": []
  }
 ],
 "metadata": {
  "kernelspec": {
   "display_name": "Python 3 (ipykernel)",
   "language": "python",
   "name": "python3"
  },
  "language_info": {
   "codemirror_mode": {
    "name": "ipython",
    "version": 3
   },
   "file_extension": ".py",
   "mimetype": "text/x-python",
   "name": "python",
   "nbconvert_exporter": "python",
   "pygments_lexer": "ipython3",
   "version": "3.11.7"
  }
 },
 "nbformat": 4,
 "nbformat_minor": 5
}
